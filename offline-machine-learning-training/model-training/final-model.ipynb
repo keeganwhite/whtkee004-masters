{
 "cells": [
  {
   "cell_type": "code",
   "execution_count": 2,
   "metadata": {
    "collapsed": true
   },
   "outputs": [],
   "source": [
    "import numpy as np\n",
    "import pandas as pd\n",
    "import keras\n",
    "from keras.models import Sequential\n",
    "from keras.layers import Dense, Flatten, Conv1D, LeakyReLU, MultiHeadAttention, LayerNormalization, MaxPooling1D, Dropout\n",
    "from sklearn.preprocessing import LabelEncoder\n",
    "import evaluation_utils"
   ]
  },
  {
   "cell_type": "code",
   "execution_count": null,
   "outputs": [],
   "source": [
    "def create_model_attention(optimizer=\"adam\", num_heads=5, filter_size=225, kernel_size=5, epsilon=1e-6,\n",
    "                 activation_function='relu', activation_output='softmax', loss='categorical_crossentropy'):\n",
    "    # create model\n",
    "    input_layer = keras.layers.Input(\n",
    "        shape=(144, 3),\n",
    "        name='Input',\n",
    "    )\n",
    "    conv_layer = Conv1D(filter_size, kernel_size=kernel_size, activation=activation_function)(input_layer)\n",
    "    query = Dense(filter_size)(conv_layer)\n",
    "    key = Dense(filter_size)(conv_layer)\n",
    "    value = Dense(filter_size)(conv_layer)\n",
    "    attention_layer = MultiHeadAttention(num_heads=num_heads, key_dim=1)(query, key, value)\n",
    "    normalisation_layer = LayerNormalization(epsilon=epsilon)(attention_layer)\n",
    "    conv_layer = Conv1D(filter_size, kernel_size=kernel_size, activation=activation_function)(normalisation_layer)\n",
    "    flatten_layer = Flatten()(conv_layer)\n",
    "    output_layer = Dense(19, activation=activation_output)(flatten_layer)\n",
    "    attention_based_1d_model = keras.models.Model(inputs=input_layer, outputs=output_layer)\n",
    "    attention_based_1d_model.compile(optimizer=optimizer, loss=loss, metrics=['accuracy'])\n",
    "    return attention_based_1d_model"
   ],
   "metadata": {
    "collapsed": false,
    "pycharm": {
     "name": "#%%\n"
    }
   }
  },
  {
   "cell_type": "code",
   "execution_count": null,
   "outputs": [],
   "source": [
    "def create_model_complex(optimizer=\"adam\", filter_size_1=144, kernel_size_1=3, filter_size_2=12, kernel_size_2=1,\n",
    "                 activation_function='relu', activation_output='softmax', loss='categorical_crossentropy', pool_size=3,\n",
    "                 dropout_rate=0.1):\n",
    "    # create model\n",
    "    conv_1D = Sequential()\n",
    "    # add model layers\n",
    "    conv_1D.add(Conv1D(filter_size_1, kernel_size=kernel_size_1, activation=activation_function, input_shape=(144, 3)))\n",
    "    conv_1D.add(MaxPooling1D(pool_size=pool_size))\n",
    "    conv_1D.add(Dropout(dropout_rate))\n",
    "    if filter_size_1 <= filter_size_2:\n",
    "        filter_size_2 = 12\n",
    "    if kernel_size_1 <= kernel_size_2:\n",
    "        kernel_size_2 = 1\n",
    "    conv_1D.add(Conv1D(filter_size_2, kernel_size=kernel_size_2, activation=activation_function))\n",
    "    conv_1D.add(MaxPooling1D(pool_size=pool_size))\n",
    "    conv_1D.add(Dropout(dropout_rate))\n",
    "    conv_1D.add(Flatten())\n",
    "    conv_1D.add(Dense(4, activation=activation_output))\n",
    "    conv_1D.compile(optimizer=optimizer, loss=loss, metrics=['accuracy'])\n",
    "    return conv_1D\n"
   ],
   "metadata": {
    "collapsed": false,
    "pycharm": {
     "name": "#%%\n"
    }
   }
  },
  {
   "cell_type": "code",
   "execution_count": 3,
   "outputs": [],
   "source": [
    "def create_model(optimizer=\"adam\", filter_size=144, kernel_size=3, activation_function='relu', activation_output='softmax', loss='categorical_crossentropy'):\n",
    "    #create model\n",
    "    conv_1D = Sequential()\n",
    "    #add model layers\n",
    "    conv_1D.add(Conv1D(filter_size, kernel_size=kernel_size, activation=activation_function, input_shape=(144,3)))\n",
    "    conv_1D.add(Flatten())\n",
    "    conv_1D.add(Dense(4, activation=activation_output))\n",
    "    conv_1D.compile(optimizer=optimizer, loss=loss, metrics=['accuracy'])\n",
    "    return conv_1D"
   ],
   "metadata": {
    "collapsed": false,
    "pycharm": {
     "name": "#%%\n"
    }
   }
  },
  {
   "cell_type": "code",
   "execution_count": 4,
   "outputs": [],
   "source": [
    "base_data_path = \"/home/keegan/Desktop/UCT/Masters/Code/final-code/data-sets/\"\n",
    "tcp_udp_path = base_data_path + \"tcp_udp/\"\n",
    "tcp_udp_144_3 = tcp_udp_path + \"144-3/\""
   ],
   "metadata": {
    "collapsed": false,
    "pycharm": {
     "name": "#%%\n"
    }
   }
  },
  {
   "cell_type": "code",
   "execution_count": 5,
   "outputs": [],
   "source": [
    "packet_data_bittorrent = np.load(tcp_udp_144_3 + \"bittorrent-3.npy\", allow_pickle=True)  # load pre processed data\n",
    "packet_data_bittorrent = np.reshape(packet_data_bittorrent, (-1, 432))\n",
    "df_bittorrent = pd.DataFrame(packet_data_bittorrent)\n",
    "df_bittorrent['label'] = 'BitTorrent'\n",
    "# facebook\n",
    "packet_data_facebook = np.load(tcp_udp_144_3 + \"facebook-3.npy\", allow_pickle=True)  # load pre processed data\n",
    "packet_data_facebook = np.reshape(packet_data_facebook, (-1, 432))\n",
    "df_facebook = pd.DataFrame(packet_data_facebook)\n",
    "df_facebook['label'] = 'Facebook'\n",
    "\n",
    "# instagram\n",
    "packet_data_instagram = np.load(tcp_udp_144_3 + \"instagram-3.npy\", allow_pickle=True)  # load pre processed data\n",
    "packet_data_instagram = np.reshape(packet_data_instagram, (-1, 432))\n",
    "df_instagram = pd.DataFrame(packet_data_instagram)\n",
    "df_instagram['label'] = 'Instagram'\n",
    "\n",
    "# messenger\n",
    "packet_data_messenger = np.load(tcp_udp_144_3 + \"messenger-3.npy\", allow_pickle=True)  # load pre processed data\n",
    "packet_data_messenger = np.reshape(packet_data_messenger, (-1, 432))\n",
    "df_messenger = pd.DataFrame(packet_data_messenger)\n",
    "df_messenger['label'] = 'Messenger'\n",
    "\n",
    "# tiktok\n",
    "packet_data_tiktok = np.load(tcp_udp_144_3 + \"tiktok-3.npy\", allow_pickle=True)  # load pre processed data\n",
    "packet_data_tiktok = np.reshape(packet_data_tiktok, (-1, 432))\n",
    "df_tiktok = pd.DataFrame(packet_data_tiktok)\n",
    "df_tiktok['label'] = 'TikTok'\n",
    "\n",
    "\n",
    "# whatsapp\n",
    "packet_data_whatsapp = np.load(tcp_udp_144_3 + \"whatsapp-3.npy\", allow_pickle=True)  # load pre processed data\n",
    "packet_data_whatsapp = np.reshape(packet_data_whatsapp, (-1, 432))\n",
    "df_whatsapp = pd.DataFrame(packet_data_whatsapp)\n",
    "df_whatsapp['label'] = 'WhatsApp'\n",
    "\n",
    "\n",
    "    # youtube\n",
    "packet_data_youtube = np.load(tcp_udp_144_3 + \"youtube-3.npy\", allow_pickle=True)  # load pre processed data\n",
    "packet_data_youtube = np.reshape(packet_data_youtube, (-1, 432))\n",
    "df_youtube = pd.DataFrame(packet_data_youtube)\n",
    "df_youtube['label'] = 'YouTube'"
   ],
   "metadata": {
    "collapsed": false,
    "pycharm": {
     "name": "#%%\n"
    }
   }
  },
  {
   "cell_type": "code",
   "execution_count": 6,
   "outputs": [],
   "source": [
    "index_60 = 14160\n",
    "index_80 = 18880\n",
    "max = 23600\n",
    "index_streaming_60 = index_60 // 2\n",
    "index_streaming_80 = index_80 // 2\n",
    "index_messaging_60 = index_60 // 2\n",
    "index_messaging_80 = index_80 // 2\n",
    "index_social_media_60 = index_60 // 2\n",
    "index_social_media_80 = index_80 // 2\n",
    "index_messaging_end = max // 2\n",
    "index_social_media_end = max // 2\n",
    "index_streaming_end = max // 2\n",
    "df_train = pd.concat([df_youtube[:index_streaming_60], df_tiktok[:index_streaming_60],\n",
    "                          df_messenger[:index_messaging_60], df_whatsapp[:index_messaging_60],\n",
    "                          df_instagram[:index_social_media_60], df_facebook[:index_social_media_60],\n",
    "                          df_bittorrent[:index_60]])\n",
    "\n",
    "df_test = pd.concat(\n",
    "        [df_youtube[index_streaming_60:index_streaming_80], df_tiktok[index_streaming_60:index_streaming_80],\n",
    "         df_messenger[index_messaging_60:index_messaging_80], df_whatsapp[index_messaging_60:index_messaging_80],\n",
    "         df_instagram[index_social_media_60:index_social_media_80],\n",
    "         df_facebook[index_social_media_60:index_social_media_80], df_bittorrent[index_60:index_80]])\n",
    "\n",
    "df_validation = pd.concat(\n",
    "        [df_youtube[index_streaming_80:index_streaming_end], df_tiktok[index_streaming_80:index_streaming_end],\n",
    "         df_messenger[index_messaging_80:index_messaging_end], df_whatsapp[index_messaging_80:index_messaging_end],\n",
    "         df_instagram[index_social_media_80:index_social_media_end],\n",
    "         df_facebook[index_social_media_80:index_social_media_end], df_bittorrent[index_80:max]])\n",
    "\n",
    "df_k_fold = pd.concat(\n",
    "        [df_youtube[:index_streaming_80], df_tiktok[:index_streaming_80], df_messenger[:index_messaging_80],\n",
    "         df_whatsapp[:index_messaging_80], df_instagram[:index_social_media_80], df_facebook[:index_social_media_80],\n",
    "         df_bittorrent[:index_80]])\n",
    "\n",
    "y_train = df_train['label']\n",
    "y_test = df_test['label']\n",
    "y_validation = df_validation['label']\n",
    "y_k_fold = df_k_fold['label']\n",
    "\n",
    "# Add category labels\n",
    "y_train.replace(\n",
    "        {\"YouTube\": \"Streaming\", \"TikTok\": \"Streaming\", \"WhatsApp\": \"Messaging\", \"WhatsAppFiles\": \"Messaging\",\n",
    "         \"Instagram\": \"SocialMedia\", \"Facebook\": \"SocialMedia\", \"Messenger\": \"Messaging\"}, inplace=True)\n",
    "y_test.replace(\n",
    "        {\"YouTube\": \"Streaming\", \"TikTok\": \"Streaming\", \"WhatsApp\": \"Messaging\", \"WhatsAppFiles\": \"Messaging\",\n",
    "         \"Instagram\": \"SocialMedia\", \"Facebook\": \"SocialMedia\", \"Messenger\": \"Messaging\"}, inplace=True)\n",
    "y_validation.replace(\n",
    "        {\"YouTube\": \"Streaming\", \"TikTok\": \"Streaming\", \"WhatsApp\": \"Messaging\", \"WhatsAppFiles\": \"Messaging\",\n",
    "         \"Instagram\": \"SocialMedia\", \"Facebook\": \"SocialMedia\", \"Messenger\": \"Messaging\"}, inplace=True)\n",
    "y_k_fold.replace(\n",
    "        {\"YouTube\": \"Streaming\", \"TikTok\": \"Streaming\", \"WhatsApp\": \"Messaging\", \"WhatsAppFiles\": \"Messaging\",\n",
    "         \"Instagram\": \"SocialMedia\", \"Facebook\": \"SocialMedia\", \"Messenger\": \"Messaging\"}, inplace=True)\n",
    "\n",
    "# Encode Labels\n",
    "label_encoder = LabelEncoder()\n",
    "y_train_encoded = label_encoder.fit_transform(y_train.to_numpy())\n",
    "y_test_encoded = label_encoder.fit_transform(y_test.to_numpy())\n",
    "y_k_fold_encoded = label_encoder.fit_transform(y_k_fold.to_numpy())\n",
    "y_validation_encoded = label_encoder.fit_transform(y_validation.to_numpy())\n",
    "y_train_encoded = keras.utils.np_utils.to_categorical(y_train_encoded)\n",
    "y_test_encoded = keras.utils.np_utils.to_categorical(y_test_encoded)\n",
    "y_validation_encoded = keras.utils.np_utils.to_categorical(y_validation_encoded)\n",
    "y_k_fold_encoded = keras.utils.np_utils.to_categorical(y_k_fold_encoded)\n",
    "x_train = np.array(df_train.drop(\"label\", axis=1)).reshape(-1, 144, 3)\n",
    "x_train = x_train.astype(int) / 255\n",
    "x_test = np.array(df_test.drop(\"label\", axis=1)).reshape(-1, 144, 3)\n",
    "x_test = x_test.astype(int) / 255\n",
    "x_validation = np.array(df_validation.drop(\"label\", axis=1)).reshape(-1, 144, 3)\n",
    "x_validation = x_validation.astype(int) / 255\n",
    "x_k_fold = np.array(df_k_fold.drop(\"label\", axis=1)).reshape(-1, 144, 3)\n",
    "x_k_fold = x_k_fold.astype(int) / 255\n",
    "# X_train = tf.convert_to_tensor(x_train, dtype=tf.float32)\n",
    "# X_test = tf.convert_to_tensor(x_test, dtype=tf.float32)\n",
    "# X_validation = tf.convert_to_tensor(x_validation, dtype=tf.float32)\n",
    "# X_k_fold = tf.convert_to_tensor(x_k_fold, dtype=tf.float32)"
   ],
   "metadata": {
    "collapsed": false,
    "pycharm": {
     "name": "#%%\n"
    }
   }
  },
  {
   "cell_type": "code",
   "execution_count": null,
   "outputs": [],
   "source": [
    "conv_1D = create_model(optimizer='RMSprop', loss='categorical_crossentropy', kernel_size=1, filter_size=144, activation_output='sigmoid', activation_function='relu')\n",
    "conv_1D.fit(x_train, y_train_encoded, validation_data=(x_validation, y_validation_encoded), epochs=150, shuffle=True, batch_size=500)"
   ],
   "metadata": {
    "collapsed": false,
    "pycharm": {
     "name": "#%%\n",
     "is_executing": true
    }
   }
  },
  {
   "cell_type": "code",
   "execution_count": null,
   "outputs": [],
   "source": [
    "evaluation_utils.plot_conf_mtx(conv_1D, x_test, y_test_encoded, df_validation, 4, title=\"1D CNN - 144 Bytes and \\n3 Packets\")"
   ],
   "metadata": {
    "collapsed": false,
    "pycharm": {
     "name": "#%%\n",
     "is_executing": true
    }
   }
  },
  {
   "cell_type": "code",
   "execution_count": null,
   "outputs": [],
   "source": [
    "conv_1D.save('./144_3_1D')"
   ],
   "metadata": {
    "collapsed": false,
    "pycharm": {
     "name": "#%%\n",
     "is_executing": true
    }
   }
  }
 ],
 "metadata": {
  "kernelspec": {
   "display_name": "Python 3",
   "language": "python",
   "name": "python3"
  },
  "language_info": {
   "codemirror_mode": {
    "name": "ipython",
    "version": 2
   },
   "file_extension": ".py",
   "mimetype": "text/x-python",
   "name": "python",
   "nbconvert_exporter": "python",
   "pygments_lexer": "ipython2",
   "version": "2.7.6"
  }
 },
 "nbformat": 4,
 "nbformat_minor": 0
}