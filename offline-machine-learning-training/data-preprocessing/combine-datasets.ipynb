{
 "cells": [
  {
   "cell_type": "code",
   "execution_count": null,
   "metadata": {
    "collapsed": true,
    "pycharm": {
     "is_executing": true
    }
   },
   "outputs": [],
   "source": [
    "import numpy as np\n",
    "import pandas as pd\n",
    "import tensorflow as tf\n",
    "import keras\n",
    "from keras.models import Sequential\n",
    "from keras.layers import Dense , Flatten, Conv1D\n",
    "import sklearn as sk\n",
    "from sklearn.preprocessing import LabelEncoder\n",
    "from sklearn.pipeline import Pipeline\n",
    "from sklearn.model_selection import GridSearchCV, KFold, RandomizedSearchCV\n",
    "from keras.wrappers.scikit_learn import KerasClassifier\n",
    "import math\n",
    "from sklearn.model_selection import KFold\n",
    "import time\n",
    "from keras import callbacks"
   ]
  },
  {
   "cell_type": "code",
   "execution_count": 3,
   "outputs": [],
   "source": [
    "base_data_path = \"/home/keegan/Desktop/UCT/Masters/Code/final-code/data-sets/\"\n",
    "tcp_udp_path = base_data_path + \"tcp_udp/\"\n",
    "tcp_udp_144_3 = tcp_udp_path + \"144-3/\""
   ],
   "metadata": {
    "collapsed": false,
    "pycharm": {
     "name": "#%%\n"
    }
   }
  },
  {
   "cell_type": "markdown",
   "source": [
    "## Load Data Sets (144-3)"
   ],
   "metadata": {
    "collapsed": false,
    "pycharm": {
     "name": "#%% md\n"
    }
   }
  },
  {
   "cell_type": "code",
   "execution_count": 25,
   "outputs": [],
   "source": [
    "packet_data_bittorrent = np.load(tcp_udp_144_3 + \"bittorrent-3.npy\", allow_pickle=True)  # load pre processed data\n",
    "df_bittorrent = pd.DataFrame(packet_data_bittorrent)\n",
    "y_bittorrent = pd.read_pickle(tcp_udp_144_3 + \"bittorrent-3.pkl\")\n",
    "# facebook\n",
    "packet_data_facebook = np.load(tcp_udp_144_3 + \"facebook-3.npy\", allow_pickle=True)  # load pre processed data\n",
    "df_facebook = pd.DataFrame(packet_data_facebook)\n",
    "y_facebook = pd.read_pickle(tcp_udp_144_3 + \"facebook-3.pkl\")\n",
    "# instagram\n",
    "packet_data_instagram = np.load(tcp_udp_144_3 + \"instagram-3.npy\", allow_pickle=True)  # load pre processed data\n",
    "df_instagram = pd.DataFrame(packet_data_instagram)\n",
    "y_instagram = pd.read_pickle(tcp_udp_144_3 + \"instagram-3.pkl\")\n",
    "# messenger\n",
    "packet_data_messenger = np.load(tcp_udp_144_3 + \"messenger-3.npy\", allow_pickle=True)  # load pre processed data\n",
    "df_messenger = pd.DataFrame(packet_data_messenger)\n",
    "y_messenger = pd.read_pickle(tcp_udp_144_3 + \"messenger-3.pkl\")\n",
    "# tiktok\n",
    "packet_data_tiktok = np.load(tcp_udp_144_3 + \"tiktok-3.npy\", allow_pickle=True)  # load pre processed data\n",
    "df_tiktok = pd.DataFrame(packet_data_tiktok)\n",
    "y_tiktok = pd.read_pickle(tcp_udp_144_3 + \"tiktok-3.pkl\")\n",
    "# whatsapp\n",
    "packet_data_whatsapp = np.load(tcp_udp_144_3 + \"whatsapp-3.npy\", allow_pickle=True)  # load pre processed data\n",
    "df_whatsapp = pd.DataFrame(packet_data_whatsapp)\n",
    "y_whatsapp = pd.read_pickle(tcp_udp_144_3 + \"whatsapp-3.pkl\")\n",
    "# youtube\n",
    "packet_data_youtube = np.load(tcp_udp_144_3 + \"youtube-3.npy\", allow_pickle=True)  # load pre processed data\n",
    "df_youtube = pd.DataFrame(packet_data_youtube)\n",
    "y_youtube = pd.read_pickle(tcp_udp_144_3 + \"youtube-3.pkl\")"
   ],
   "metadata": {
    "collapsed": false,
    "pycharm": {
     "name": "#%%\n"
    }
   }
  },
  {
   "cell_type": "code",
   "execution_count": null,
   "outputs": [],
   "source": [
    "packet_data_whatsapp.shape"
   ],
   "metadata": {
    "collapsed": false,
    "pycharm": {
     "name": "#%%\n",
     "is_executing": true
    }
   }
  },
  {
   "cell_type": "markdown",
   "source": [
    "## Concatenate Datasets (144-3)"
   ],
   "metadata": {
    "collapsed": false,
    "pycharm": {
     "name": "#%% md\n"
    }
   }
  },
  {
   "cell_type": "code",
   "execution_count": 42,
   "outputs": [],
   "source": [
    "y_all = pd.concat([y_bittorrent[:17000], y_facebook[:17000], y_instagram[:17000], y_messenger[:17000], y_tiktok[:17000], y_whatsapp[:17000],                                        y_youtube[:17000]])\n",
    "x_all = np.concatenate([packet_data_bittorrent[:51000], packet_data_facebook[:51000], packet_data_instagram[:51000], packet_data_messenger[:51000], packet_data_tiktok[:51000], packet_data_whatsapp[:51000], packet_data_youtube[:51000]])"
   ],
   "metadata": {
    "collapsed": false,
    "pycharm": {
     "name": "#%%\n"
    }
   }
  },
  {
   "cell_type": "code",
   "execution_count": null,
   "outputs": [],
   "source": [
    "print(y_all.shape)\n",
    "print(x_all.shape)"
   ],
   "metadata": {
    "collapsed": false,
    "pycharm": {
     "name": "#%%\n",
     "is_executing": true
    }
   }
  },
  {
   "cell_type": "code",
   "execution_count": 44,
   "outputs": [],
   "source": [
    "y_all.to_pickle(tcp_udp_144_3 + \"combined/\" + \"144-3.pkl\")\n",
    "np.save(tcp_udp_144_3 + \"combined/\" + \"144-3.npy\", x_all)"
   ],
   "metadata": {
    "collapsed": false,
    "pycharm": {
     "name": "#%%\n"
    }
   }
  }
 ],
 "metadata": {
  "kernelspec": {
   "display_name": "Python 3",
   "language": "python",
   "name": "python3"
  },
  "language_info": {
   "codemirror_mode": {
    "name": "ipython",
    "version": 2
   },
   "file_extension": ".py",
   "mimetype": "text/x-python",
   "name": "python",
   "nbconvert_exporter": "python",
   "pygments_lexer": "ipython2",
   "version": "2.7.6"
  }
 },
 "nbformat": 4,
 "nbformat_minor": 0
}