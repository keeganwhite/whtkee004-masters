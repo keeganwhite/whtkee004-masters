{
 "cells": [
  {
   "cell_type": "code",
   "execution_count": 1,
   "metadata": {
    "collapsed": true,
    "pycharm": {
     "name": "#%%\n"
    }
   },
   "outputs": [],
   "source": [
    "import glob"
   ]
  },
  {
   "cell_type": "code",
   "execution_count": 4,
   "outputs": [],
   "source": [
    "list_of_files = glob.glob('/path/to/pcaps/tcp_syn/*.pcap')\n",
    "applications = [\"WhatsAppFiles\", \"Instagram\", \"WhatsApp\", \"Messenger\", \"BitTorrent\", \"TikTok\", \"YouTube\",\n",
    "                \"Facebook\"]\n",
    "application_count = {\"WhatsAppFiles\":0, \"Instagram\": 0, \"WhatsApp\": 0, \"Messenger\":0 , \"BitTorrent\": 0, \"TikTok\": 0, \"YouTube\": 0,\n",
    "                                                                                                             \"Facebook\": 0}\n",
    "for file in list_of_files:\n",
    "    if \"WhatsAppFiles\" in file:\n",
    "        application_count[\"WhatsAppFiles\"] += 1\n",
    "    elif \"Instagram\" in file:\n",
    "        application_count[\"Instagram\"] += 1\n",
    "    elif \"WhatsApp\" in file:\n",
    "        application_count[\"WhatsApp\"] += 1\n",
    "    elif \"Messenger\" in file:\n",
    "        application_count[\"Messenger\"] += 1\n",
    "    elif \"BitTorrent\" in file:\n",
    "        application_count[\"BitTorrent\"] += 1\n",
    "    elif \"TikTok\" in file:\n",
    "        application_count[\"TikTok\"] += 1\n",
    "    elif \"YouTube\" in file:\n",
    "        application_count[\"YouTube\"] += 1\n",
    "    elif \"Facebook\" in file:\n",
    "        application_count[\"Facebook\"] += 1"
   ],
   "metadata": {
    "collapsed": false,
    "pycharm": {
     "name": "#%%\n"
    }
   }
  },
  {
   "cell_type": "code",
   "execution_count": 6,
   "outputs": [],
   "source": [
    "list_of_files = glob.glob('/path/to/pcaps/udp/*.pcap')\n",
    "\n",
    "for file in list_of_files:\n",
    "    if \"WhatsAppFiles\" in file:\n",
    "        application_count[\"WhatsAppFiles\"] += 1\n",
    "    elif \"Instagram\" in file:\n",
    "        application_count[\"Instagram\"] += 1\n",
    "    elif \"WhatsApp\" in file:\n",
    "        application_count[\"WhatsApp\"] += 1\n",
    "    elif \"Messenger\" in file:\n",
    "        application_count[\"Messenger\"] += 1\n",
    "    elif \"BitTorrent\" in file:\n",
    "        application_count[\"BitTorrent\"] += 1\n",
    "    elif \"TikTok\" in file:\n",
    "        application_count[\"TikTok\"] += 1\n",
    "    elif \"YouTube\" in file:\n",
    "        application_count[\"YouTube\"] += 1\n",
    "    elif \"Facebook\" in file:\n",
    "        application_count[\"Facebook\"] += 1"
   ],
   "metadata": {
    "collapsed": false,
    "pycharm": {
     "name": "#%%\n"
    }
   }
  },
  {
   "cell_type": "code",
   "execution_count": 5,
   "outputs": [],
   "source": [
    "import os\n",
    "import shutil\n",
    "rootdir = '/home/kwhite/Desktop/expermental/experiment'\n",
    "application_count = {\"WhatsAppFiles\":0, \"Instagram\": 0, \"WhatsApp\": 0, \"Messenger\":0 , \"BitTorrent\": 0, \"TikTok\": 0, \"YouTube\": 0,\n",
    "                     \"Facebook\": 0}\n",
    "for subdir, dirs, files in os.walk(rootdir):\n",
    "    for file in files:\n",
    "        shutil.copy(os.path.join(subdir, file), '/home/kwhite/Desktop/expermental/internet/')\n",
    "        if \"WhatsAppFiles\" in file:\n",
    "            application_count[\"WhatsAppFiles\"] += 1\n",
    "        elif \"Instagram\" in file:\n",
    "            application_count[\"Instagram\"] += 1\n",
    "        elif \"WhatsApp\" in file:\n",
    "            application_count[\"WhatsApp\"] += 1\n",
    "        elif \"Messenger\" in file:\n",
    "            application_count[\"Messenger\"] += 1\n",
    "        elif \"BitTorrent\" in file:\n",
    "            application_count[\"BitTorrent\"] += 1\n",
    "        elif \"TikTok\" in file:\n",
    "            application_count[\"TikTok\"] += 1\n",
    "        elif \"YouTube\" in file:\n",
    "            application_count[\"YouTube\"] += 1\n",
    "        elif \"Facebook\" in file:\n",
    "            application_count[\"Facebook\"] += 1"
   ],
   "metadata": {
    "collapsed": false,
    "pycharm": {
     "name": "#%%\n"
    }
   }
  },
  {
   "cell_type": "code",
   "execution_count": 2,
   "outputs": [
    {
     "data": {
      "text/plain": "{'WhatsAppFiles': 617,\n 'Instagram': 35,\n 'WhatsApp': 139,\n 'Messenger': 76,\n 'BitTorrent': 20319,\n 'TikTok': 1921,\n 'YouTube': 5371,\n 'Facebook': 6722}"
     },
     "execution_count": 2,
     "metadata": {},
     "output_type": "execute_result"
    }
   ],
   "source": [
    "application_count"
   ],
   "metadata": {
    "collapsed": false,
    "pycharm": {
     "name": "#%%\n"
    }
   }
  },
  {
   "cell_type": "code",
   "execution_count": 6,
   "outputs": [],
   "source": [
    "from scapy.all import sendp, IP, UDP, Ether, TCP, rdpcap\n",
    "from scapy.all import *\n",
    "from scapy.sendrecv import sendpfast\n",
    "import os\n",
    "import csv\n",
    "import sys\n",
    "import shutil"
   ],
   "metadata": {
    "collapsed": false,
    "pycharm": {
     "name": "#%%\n"
    }
   }
  },
  {
   "cell_type": "code",
   "execution_count": 16,
   "outputs": [],
   "source": [
    "def generate_packets(dst_mac, payload_source, filename):\n",
    "    \"\"\"\n",
    "    Pre-generates PCAP files in the correct format.\n",
    "    :param payload_source:\n",
    "    :param filename:\n",
    "    \"\"\"\n",
    "    inethi_sample = rdpcap(payload_source)\n",
    "    final_data = []\n",
    "    for pkt in inethi_sample:\n",
    "        pkt[Ether].src = \"00:00:00:00:11:10\"  # 'internet' MAC address\n",
    "        pkt[Ether].dst = dst_mac\n",
    "        final_data.append(pkt)\n",
    "    wrpcap(payload_source, final_data)"
   ],
   "metadata": {
    "collapsed": false,
    "pycharm": {
     "name": "#%%\n"
    }
   }
  },
  {
   "cell_type": "code",
   "execution_count": 17,
   "outputs": [
    {
     "name": "stdout",
     "output_type": "stream",
     "text": [
      "1000\n",
      "2000\n",
      "3000\n",
      "4000\n",
      "5000\n",
      "6000\n",
      "7000\n",
      "8000\n",
      "9000\n",
      "10000\n",
      "11000\n",
      "12000\n",
      "13000\n",
      "14000\n",
      "15000\n",
      "16000\n",
      "17000\n",
      "18000\n",
      "19000\n",
      "20000\n",
      "21000\n",
      "22000\n",
      "23000\n",
      "24000\n",
      "25000\n",
      "26000\n",
      "27000\n",
      "28000\n",
      "29000\n",
      "30000\n",
      "31000\n",
      "32000\n",
      "33000\n",
      "34000\n",
      "35000\n"
     ]
    }
   ],
   "source": [
    "rootdir = '/home/kwhite/Desktop/expermental/internet'\n",
    "count = 0\n",
    "for subdir, dirs, files in os.walk(rootdir):\n",
    "    for file in files:\n",
    "        dst_mac = subdir.split('/')[-1]\n",
    "        generate_packets(dst_mac,os.path.join(subdir, file), file)\n",
    "        count +=1\n",
    "        if count % 1000 == 0:\n",
    "            print(count)\n"
   ],
   "metadata": {
    "collapsed": false,
    "pycharm": {
     "name": "#%%\n"
    }
   }
  },
  {
   "cell_type": "code",
   "execution_count": null,
   "outputs": [],
   "source": [],
   "metadata": {
    "collapsed": false,
    "pycharm": {
     "name": "#%%\n"
    }
   }
  }
 ],
 "metadata": {
  "kernelspec": {
   "display_name": "Python 3",
   "language": "python",
   "name": "python3"
  },
  "language_info": {
   "codemirror_mode": {
    "name": "ipython",
    "version": 2
   },
   "file_extension": ".py",
   "mimetype": "text/x-python",
   "name": "python",
   "nbconvert_exporter": "python",
   "pygments_lexer": "ipython2",
   "version": "2.7.6"
  }
 },
 "nbformat": 4,
 "nbformat_minor": 0
}