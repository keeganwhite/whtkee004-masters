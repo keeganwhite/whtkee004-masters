{
 "cells": [
  {
   "cell_type": "code",
   "execution_count": 1,
   "metadata": {
    "collapsed": true,
    "pycharm": {
     "name": "#%%\n"
    }
   },
   "outputs": [],
   "source": [
    "import pandas as pd"
   ]
  },
  {
   "cell_type": "markdown",
   "source": [
    "# Prediction Results"
   ],
   "metadata": {
    "collapsed": false,
    "pycharm": {
     "name": "#%% md\n"
    }
   }
  },
  {
   "cell_type": "code",
   "execution_count": 519,
   "outputs": [],
   "source": [
    "location_basic = '/home/kwhite/Desktop/UCT/final-code/network-virtualisation/topologies/final-results/1D/'\n",
    "location_base = \"/home/kwhite/Desktop/UCT/final-code/network-virtualisation/topologies/final-results/base/\"\n",
    "location_complex = \"/home/kwhite/Desktop/UCT/final-code/network-virtualisation/topologies/final-results/Complex/\"\n",
    "location_attention = \"/home/kwhite/Desktop/UCT/final-code/network-virtualisation/topologies/final-results/Attention/\""
   ],
   "metadata": {
    "collapsed": false,
    "pycharm": {
     "name": "#%%\n"
    }
   }
  },
  {
   "cell_type": "code",
   "execution_count": 571,
   "outputs": [],
   "source": [
    "model = ''\n",
    "one_five = \"3s-15h\""
   ],
   "metadata": {
    "collapsed": false,
    "pycharm": {
     "name": "#%%\n"
    }
   }
  },
  {
   "cell_type": "code",
   "execution_count": 572,
   "metadata": {
    "collapsed": false,
    "pycharm": {
     "name": "#%%\n"
    }
   },
   "outputs": [],
   "source": [
    "prediction_col = [\"prediction\", \"key\"]\n",
    "true_col = [\"label\", \"key\"]\n",
    "elapsed_time_col = [\"time\"]\n",
    "#df_predictions = pd.read_csv(location_base+model+one_five+\"/predictions.csv\", names=prediction_col, header=None)\n",
    "#df_true_1 = pd.read_csv(\"./144_3_Predictions/predictions/00:00:00:00:11:10_sent_key.csv\", names=true_col, header=None)\n",
    "df_true_2 = pd.read_csv(location_base+model+one_five+\"/00:00:00:00:11:11_sent_key.csv\", names=true_col, header=None)\n",
    "# df_true_3 = pd.read_csv(\"../topologies/00:00:00:00:11:12_sent_key.csv\", names=true_col, header=None)\n",
    "df_true_4 = pd.read_csv(location_base+model+one_five+\"/00:00:00:00:11:13_sent_key.csv\", names=true_col, header=None)\n",
    "df_true_5 = pd.read_csv(location_base+model+one_five+\"/00:00:00:00:11:14_sent_key.csv\", names=true_col, header=None)\n",
    "df_true_6 = pd.read_csv(location_base+model+one_five+\"/00:00:00:00:11:15_sent_key.csv\", names=true_col, header=None)\n",
    "#df_true_7 = pd.read_csv(\"../topologies/00:00:00:00:11:16_sent_key.csv\", names=true_col, header=None)\n",
    "df_true_8 = pd.read_csv(location_base+model+one_five+\"/00:00:00:00:11:17_sent_key.csv\", names=true_col, header=None)\n",
    "df_true_9 = pd.read_csv(location_base+model+one_five+\"/00:00:00:00:11:18_sent_key.csv\", names=true_col, header=None)\n",
    "df_true_10 = pd.read_csv(location_base+model+one_five+\"/00:00:00:00:11:19_sent_key.csv\", names=true_col, header=None)\n",
    "df_true_11 = pd.read_csv(location_base+model+one_five+\"/00:00:00:00:11:20_sent_key.csv\", names=true_col, header=None)\n",
    "df_true_12 = pd.read_csv(location_base+model+one_five+\"/00:00:00:00:11:21_sent_key.csv\", names=true_col, header=None)\n",
    "df_true_13 = pd.read_csv(location_base+model+one_five+\"/00:00:00:00:11:22_sent_key.csv\", names=true_col, header=None)\n",
    "df_true_14 = pd.read_csv(location_base+model+one_five+\"/00:00:00:00:11:23_sent_key.csv\", names=true_col, header=None)\n",
    "df_true_15 = pd.read_csv(location_base+model+one_five+\"/00:00:00:00:11:24_sent_key.csv\", names=true_col, header=None)\n",
    "df_true_16 = pd.read_csv(location_base+model+one_five+\"/00:00:00:00:11:25_sent_key.csv\", names=true_col, header=None)\n",
    "df_true_17 = pd.read_csv(location_base+model+one_five+\"/00:00:00:00:11:26_sent_key.csv\", names=true_col, header=None)\n",
    "df_true_18 = pd.read_csv(location_base+model+one_five+\"/00:00:00:00:11:27_sent_key.csv\", names=true_col, header=None)\n",
    "#df_elapsed_time = pd.read_csv(location_base+model+one_five+\"/time.csv\", names=elapsed_time_col, header=None)\n",
    "#df_trans_time = pd.read_csv(location_base+model+one_five+\"/trans_time.csv\", names=elapsed_time_col, header=None)\n",
    "df_adj_time = pd.read_csv(location_base+model+one_five+\"/flow_adjustment_time.txt\", names=elapsed_time_col, header=None)\n",
    "df_true = pd.concat([ df_true_2, df_true_4, df_true_5, df_true_6, df_true_8, df_true_9, df_true_10, df_true_11, df_true_12, df_true_13, df_true_14, df_true_15, df_true_16, df_true_17, df_true_18])"
   ]
  },
  {
   "cell_type": "code",
   "execution_count": 566,
   "outputs": [],
   "source": [
    "prediction_col = [\"prediction\", \"key\"]\n",
    "true_col = [\"label\", \"key\"]\n",
    "elapsed_time_col = [\"time\"]\n",
    "# df_predictions = pd.read_csv(location_base+model+one_five+\"/predictions.csv\", names=prediction_col, header=None)\n",
    "#df_true_1 = pd.read_csv(\"./144_3_Predictions/predictions/00:00:00:00:11:10_sent_key.csv\", names=true_col, header=None)\n",
    "df_true_2 = pd.read_csv(location_base+model+one_five+\"/00:00:00:00:11:11_sent_key.csv\", names=true_col, header=None)\n",
    "# df_true_3 = pd.read_csv(\"../topologies/00:00:00:00:11:12_sent_key.csv\", names=true_col, header=None)\n",
    "df_true_4 = pd.read_csv(location_base+model+one_five+\"/00:00:00:00:11:13_sent_key.csv\", names=true_col, header=None)\n",
    "df_true_5 = pd.read_csv(location_base+model+one_five+\"/00:00:00:00:11:14_sent_key.csv\", names=true_col, header=None)\n",
    "df_true_6 = pd.read_csv(location_base+model+one_five+\"/00:00:00:00:11:15_sent_key.csv\", names=true_col, header=None)\n",
    "#df_true_7 = pd.read_csv(\"../topologies/00:00:00:00:11:16_sent_key.csv\", names=true_col, header=None)\n",
    "df_true_8 = pd.read_csv(location_base+model+one_five+\"/00:00:00:00:11:17_sent_key.csv\", names=true_col, header=None)\n",
    "# df_elapsed_time = pd.read_csv(location_base+model+one_five+\"/time.csv\", names=elapsed_time_col, header=None)\n",
    "# df_trans_time = pd.read_csv(location_base+model+one_five+\"/trans_time.csv\", names=elapsed_time_col, header=None)\n",
    "df_adj_time = pd.read_csv(location_base+model+one_five+\"/flow_adjustment_time.txt\", names=elapsed_time_col, header=None)\n",
    "\n",
    "df_true = pd.concat([ df_true_2, df_true_4, df_true_5, df_true_6, df_true_8])"
   ],
   "metadata": {
    "collapsed": false,
    "pycharm": {
     "name": "#%%\n"
    }
   }
  },
  {
   "cell_type": "code",
   "execution_count": 567,
   "outputs": [],
   "source": [
    "prediction_col = [\"prediction\", \"key\"]\n",
    "true_col = [\"label\", \"key\"]\n",
    "elapsed_time_col = [\"time\"]\n",
    "# df_predictions = pd.read_csv(location_base+model+one_five+\"/predictions.csv\", names=prediction_col, header=None)\n",
    "#df_true_1 = pd.read_csv(\"./144_3_Predictions/predictions/00:00:00:00:11:10_sent_key.csv\", names=true_col, header=None)\n",
    "df_true_2 = pd.read_csv(location_base+model+one_five+\"/00:00:00:00:11:11_sent_key.csv\", names=true_col, header=None)\n",
    "# df_true_3 = pd.read_csv(\"../topologies/00:00:00:00:11:12_sent_key.csv\", names=true_col, header=None)\n",
    "df_true_4 = pd.read_csv(location_base+model+one_five+\"/00:00:00:00:11:13_sent_key.csv\", names=true_col, header=None)\n",
    "df_true_5 = pd.read_csv(location_base+model+one_five+\"/00:00:00:00:11:14_sent_key.csv\", names=true_col, header=None)\n",
    "df_true_6 = pd.read_csv(location_base+model+one_five+\"/00:00:00:00:11:15_sent_key.csv\", names=true_col, header=None)\n",
    "#df_true_7 = pd.read_csv(\"../topologies/00:00:00:00:11:16_sent_key.csv\", names=true_col, header=None)\n",
    "df_true_8 = pd.read_csv(location_base+model+one_five+\"/00:00:00:00:11:17_sent_key.csv\", names=true_col, header=None)\n",
    "df_true_9 = pd.read_csv(location_base+model+one_five+\"/00:00:00:00:11:18_sent_key.csv\", names=true_col, header=None)\n",
    "df_true_10 = pd.read_csv(location_base+model+one_five+\"/00:00:00:00:11:19_sent_key.csv\", names=true_col, header=None)\n",
    "df_true_11 = pd.read_csv(location_base+model+one_five+\"/00:00:00:00:11:20_sent_key.csv\", names=true_col, header=None)\n",
    "df_true_12 = pd.read_csv(location_base+model+one_five+\"/00:00:00:00:11:21_sent_key.csv\", names=true_col, header=None)\n",
    "df_true_13 = pd.read_csv(location_base+model+one_five+\"/00:00:00:00:11:22_sent_key.csv\", names=true_col, header=None)\n",
    "\n",
    "df_true = pd.concat([ df_true_2, df_true_4, df_true_5, df_true_6, df_true_8, df_true_9, df_true_10, df_true_11, df_true_12, df_true_13])"
   ],
   "metadata": {
    "collapsed": false,
    "pycharm": {
     "name": "#%%\n"
    }
   }
  },
  {
   "cell_type": "code",
   "execution_count": 568,
   "outputs": [
    {
     "data": {
      "text/plain": "        label                                        key\n0  BitTorrent    10.10.202.19584.104.112.22UDP2689134871\n1  BitTorrent  10.10.202.195111.223.146.185UDP2689156656\n2  BitTorrent   10.10.202.195154.120.231.66UDP2689153429\n3     YouTube    10.10.202.195173.194.128.135UDP52728443\n4      TikTok      10.10.169.240197.80.130.48TCP45434443",
      "text/html": "<div>\n<style scoped>\n    .dataframe tbody tr th:only-of-type {\n        vertical-align: middle;\n    }\n\n    .dataframe tbody tr th {\n        vertical-align: top;\n    }\n\n    .dataframe thead th {\n        text-align: right;\n    }\n</style>\n<table border=\"1\" class=\"dataframe\">\n  <thead>\n    <tr style=\"text-align: right;\">\n      <th></th>\n      <th>label</th>\n      <th>key</th>\n    </tr>\n  </thead>\n  <tbody>\n    <tr>\n      <th>0</th>\n      <td>BitTorrent</td>\n      <td>10.10.202.19584.104.112.22UDP2689134871</td>\n    </tr>\n    <tr>\n      <th>1</th>\n      <td>BitTorrent</td>\n      <td>10.10.202.195111.223.146.185UDP2689156656</td>\n    </tr>\n    <tr>\n      <th>2</th>\n      <td>BitTorrent</td>\n      <td>10.10.202.195154.120.231.66UDP2689153429</td>\n    </tr>\n    <tr>\n      <th>3</th>\n      <td>YouTube</td>\n      <td>10.10.202.195173.194.128.135UDP52728443</td>\n    </tr>\n    <tr>\n      <th>4</th>\n      <td>TikTok</td>\n      <td>10.10.169.240197.80.130.48TCP45434443</td>\n    </tr>\n  </tbody>\n</table>\n</div>"
     },
     "execution_count": 568,
     "metadata": {},
     "output_type": "execute_result"
    }
   ],
   "source": [
    "df_true.head()"
   ],
   "metadata": {
    "collapsed": false,
    "pycharm": {
     "name": "#%%\n"
    }
   }
  },
  {
   "cell_type": "code",
   "execution_count": 573,
   "metadata": {
    "collapsed": false,
    "pycharm": {
     "name": "#%%\n"
    }
   },
   "outputs": [
    {
     "data": {
      "text/plain": "time    0.007469\ndtype: float64"
     },
     "execution_count": 573,
     "metadata": {},
     "output_type": "execute_result"
    }
   ],
   "source": [
    "df_adj_time.mean()"
   ]
  },
  {
   "cell_type": "code",
   "execution_count": 510,
   "outputs": [
    {
     "data": {
      "text/plain": "time    0.02753\ndtype: float64"
     },
     "execution_count": 510,
     "metadata": {},
     "output_type": "execute_result"
    }
   ],
   "source": [
    "df_elapsed_time.mean()"
   ],
   "metadata": {
    "collapsed": false,
    "pycharm": {
     "name": "#%%\n"
    }
   }
  },
  {
   "cell_type": "code",
   "execution_count": 511,
   "metadata": {
    "collapsed": false,
    "pycharm": {
     "name": "#%%\n"
    }
   },
   "outputs": [
    {
     "name": "stdout",
     "output_type": "stream",
     "text": [
      "0.2205692664214543\n"
     ]
    }
   ],
   "source": [
    "f = open(location_base+model+one_five+\"/trans_time.csv\")\n",
    "count = 0\n",
    "arr = []\n",
    "for row in f:\n",
    "    if count == 0:\n",
    "        count += 1\n",
    "        continue\n",
    "    arr = row.split(',')\n",
    "s = 0\n",
    "cnt = 0\n",
    "for i in arr:\n",
    "    if float(i) < 10:\n",
    "        s += float(i)\n",
    "        cnt += 1\n",
    "print(s/cnt)\n"
   ]
  },
  {
   "cell_type": "code",
   "execution_count": 527,
   "metadata": {
    "collapsed": false,
    "pycharm": {
     "name": "#%%\n"
    }
   },
   "outputs": [],
   "source": [
    "for index, row in df_true.iterrows():\n",
    "    try:\n",
    "        key = df_predictions[\"key\"].values[index]\n",
    "        if key not in df_true[\"key\"].values:\n",
    "            df_predictions.drop([index], axis=0, inplace=True)\n",
    "    except:\n",
    "        break\n",
    "for index, row in df_true.iterrows():\n",
    "    try:\n",
    "        key = df_true[\"key\"].values[index]\n",
    "        if key not in df_predictions[\"key\"].values:\n",
    "            df_true.drop([index], axis=0, inplace=True)\n",
    "    except:\n",
    "        break"
   ]
  },
  {
   "cell_type": "code",
   "execution_count": 574,
   "metadata": {
    "collapsed": false,
    "pycharm": {
     "name": "#%%\n"
    }
   },
   "outputs": [
    {
     "name": "stdout",
     "output_type": "stream",
     "text": [
      "5648\n"
     ]
    }
   ],
   "source": [
    "print(len(df_true))\n",
    "# print(len(df_predictions))"
   ]
  },
  {
   "cell_type": "code",
   "execution_count": 515,
   "metadata": {
    "collapsed": false,
    "pycharm": {
     "name": "#%%\n"
    }
   },
   "outputs": [],
   "source": [
    "df_true.replace({\"YouTube\":\"Streaming\", \"TikTok\":\"Streaming\", \"WhatsApp\":\"Messaging\",\"WhatsAppFiles\":\"Messaging\", \"Instagram\":\"SocialMedia\", \"Facebook\":\"SocialMedia\", \"Messenger\":\"Messaging\"}, inplace=True)"
   ]
  },
  {
   "cell_type": "code",
   "execution_count": 516,
   "metadata": {
    "collapsed": false,
    "pycharm": {
     "name": "#%%\n"
    }
   },
   "outputs": [
    {
     "data": {
      "text/plain": "Empty DataFrame\nColumns: [prediction, key]\nIndex: []",
      "text/html": "<div>\n<style scoped>\n    .dataframe tbody tr th:only-of-type {\n        vertical-align: middle;\n    }\n\n    .dataframe tbody tr th {\n        vertical-align: top;\n    }\n\n    .dataframe thead th {\n        text-align: right;\n    }\n</style>\n<table border=\"1\" class=\"dataframe\">\n  <thead>\n    <tr style=\"text-align: right;\">\n      <th></th>\n      <th>prediction</th>\n      <th>key</th>\n    </tr>\n  </thead>\n  <tbody>\n  </tbody>\n</table>\n</div>"
     },
     "execution_count": 516,
     "metadata": {},
     "output_type": "execute_result"
    }
   ],
   "source": [
    "df_predictions[df_predictions.duplicated(['key'])]"
   ]
  },
  {
   "cell_type": "code",
   "execution_count": 517,
   "metadata": {
    "collapsed": false,
    "pycharm": {
     "name": "#%%\n"
    }
   },
   "outputs": [],
   "source": [
    "df_true.drop_duplicates('key',inplace=True)"
   ]
  },
  {
   "cell_type": "code",
   "execution_count": 518,
   "outputs": [
    {
     "name": "stdout",
     "output_type": "stream",
     "text": [
      "1022\n",
      "413\n",
      "83.53510895883777\n"
     ]
    }
   ],
   "source": [
    "correct = 0\n",
    "total = 0\n",
    "ignored = 0\n",
    "for index in range(len(df_true)):\n",
    "    # print(index)\n",
    "    key_true = df_true[\"key\"].values[index]\n",
    "    # print(key_true)\n",
    "    if key_true in set(df_predictions['key']):\n",
    "        total += 1\n",
    "        label = df_true.loc[df_true[\"key\"] == key_true]['label'].values[0]\n",
    "        # print(label)\n",
    "        prediction = df_predictions.loc[df_predictions[\"key\"] == key_true]['prediction'].values[0]\n",
    "        # print(prediction)\n",
    "        # print(index)\n",
    "        if index >= len(df_true) or index >= len(df_predictions):\n",
    "            break\n",
    "        # prediction = df_predictions[\"prediction\"].values[index]\n",
    "        if label == prediction:\n",
    "            correct += 1\n",
    "            accuracy = (correct / total) * 100\n",
    "            # print(accuracy)\n",
    "    else:\n",
    "        ignored += 1\n",
    "        # print(ignored)\n",
    "print(ignored)\n",
    "accuracy = (correct / total) * 100\n",
    "print(total)\n",
    "print(accuracy)"
   ],
   "metadata": {
    "collapsed": false,
    "pycharm": {
     "name": "#%%\n"
    }
   }
  },
  {
   "cell_type": "code",
   "execution_count": 503,
   "outputs": [
    {
     "data": {
      "text/plain": "Empty DataFrame\nColumns: [label, key]\nIndex: []",
      "text/html": "<div>\n<style scoped>\n    .dataframe tbody tr th:only-of-type {\n        vertical-align: middle;\n    }\n\n    .dataframe tbody tr th {\n        vertical-align: top;\n    }\n\n    .dataframe thead th {\n        text-align: right;\n    }\n</style>\n<table border=\"1\" class=\"dataframe\">\n  <thead>\n    <tr style=\"text-align: right;\">\n      <th></th>\n      <th>label</th>\n      <th>key</th>\n    </tr>\n  </thead>\n  <tbody>\n  </tbody>\n</table>\n</div>"
     },
     "execution_count": 503,
     "metadata": {},
     "output_type": "execute_result"
    }
   ],
   "source": [
    "df_true[df_true.duplicated([\"key\"])]"
   ],
   "metadata": {
    "collapsed": false,
    "pycharm": {
     "name": "#%%\n"
    }
   }
  },
  {
   "cell_type": "code",
   "execution_count": 408,
   "outputs": [
    {
     "name": "stdout",
     "output_type": "stream",
     "text": [
      "{'10.10.202.195115.132.116.203UDP268916881', '10.10.202.195169.1.208.168UDP2689123588', '10.10.202.195208.95.166.65UDP2689120009', '10.10.204.222173.194.128.170UDP57984443', '10.10.202.195154.0.206.94UDP2689114273', '10.10.202.19589.138.233.153UDP268916881', '10.10.203.31196.251.8.140TCP42174443', '10.10.202.19554.37.221.83UDP2689149546', '10.10.202.195180.222.7.65UDP2689153540', '10.10.202.19594.7.152.223UDP2689111018', '10.10.203.31196.251.8.141TCP38672443', '10.10.202.195173.194.128.232UDP52178443', '10.10.202.19596.41.50.125TCP5911440904', '10.10.202.19596.18.210.159UDP2689131943', '10.10.191.83185.60.219.13UDP60179443', '10.10.202.195124.123.183.138UDP2689149506', '10.10.202.19549.149.67.56UDP2689139142', '10.10.202.19541.84.233.98TCP6288610439', '10.10.202.19594.70.0.208UDP2689148502', '10.10.202.195121.200.4.127UDP268913809', '10.10.202.19573.183.147.252UDP2689146663', '10.10.204.222173.194.128.168UDP53766443', '10.10.202.195162.249.134.236UDP2689121594', '10.10.205.243196.251.8.141UDP56559443', '10.10.202.195103.139.248.14UDP2689155410', '10.10.202.19579.169.119.191UDP2689128352', '10.10.202.1955.37.211.86UDP2689131698', '10.10.197.31173.194.128.137UDP65300443', '10.10.202.19527.252.129.46UDP2689138650', '10.10.202.195139.5.20.179UDP268914193', '10.10.197.31172.217.170.86UDP50010443', '10.10.202.19592.5.230.102UDP2689163837', '10.10.191.83102.132.112.131UDP54846443', '10.10.202.195187.135.218.37UDP2689121550', '10.10.197.31173.194.128.138UDP63369443', '10.10.202.195202.188.195.178UDP2689163582', '10.10.202.19594.14.29.141UDP2689116343', '10.10.202.19569.254.28.37UDP2689142058', '10.10.201.148102.132.112.131UDP40684443', '10.10.202.19558.65.159.226UDP2689115375', '10.10.201.148102.132.112.128UDP48830443', '10.10.202.195175.145.62.161UDP2689154543', '10.10.202.195182.183.244.175UDP2689155583', '10.10.204.222196.251.8.77UDP56879443', '10.10.202.195196.251.8.141UDP59879443', '10.10.202.19584.30.73.214UDP2689158910', '10.10.202.195105.110.182.14UDP2689144868', '10.10.206.119196.251.8.141UDP48983443', '10.10.202.19584.79.48.184UDP2689114903', '10.10.202.19549.146.13.51UDP2689133101', '10.10.202.195202.74.215.202UDP2689133916', '10.10.202.195176.40.174.191UDP2689151413', '10.10.202.19541.160.47.138UDP2689164083', '10.10.202.19596.51.106.102UDP2689141797', '10.10.202.195173.194.188.41UDP64076443', '10.10.204.222196.251.8.141UDP51882443', '10.10.205.243173.194.128.134UDP51424443', '10.10.202.195120.159.98.229UDP2689151391', '10.10.204.222173.194.128.168UDP57809443', '10.10.203.31102.132.112.131UDP41524443', '10.10.201.148102.132.112.131UDP48281443', '10.10.191.83185.60.219.13UDP33682443', '10.10.201.148102.132.112.128UDP45314443', '10.10.204.222196.251.8.77UDP61777443', '10.10.202.195188.151.192.221UDP3457438603', '10.10.204.222173.194.128.168UDP62311443', '10.10.202.1952.24.136.85UDP2689160317', '10.10.202.195173.176.89.2UDP3457423510', '10.10.202.191196.251.8.141UDP49096443', '10.10.202.191196.251.8.140UDP36409443', '10.10.202.195197.242.122.236UDP2689135425', '10.10.202.195188.54.64.237UDP2689113268', '10.10.202.195201.229.115.144UDP268915743', '10.10.202.195179.6.203.169UDP268918609', '10.10.162.81185.60.219.16TCP44269443', '10.10.202.19572.39.33.52UDP2689162279', '10.10.202.19581.129.88.51UDP2689144238', '10.10.205.243196.251.8.76UDP56740443', '10.10.202.195101.179.211.55UDP2689134867', '10.10.191.83102.132.112.131UDP36850443', '10.10.202.19549.146.192.218UDP2689156136', '10.10.202.19569.6.40.55UDP2689110176', '10.10.202.19541.58.225.227UDP2689112606', '10.10.202.19566.225.102.174UDP2689139643', '10.10.202.19580.233.52.40UDP2689121084', '10.10.202.195196.251.8.77UDP65205443', '10.10.202.195173.194.128.232UDP52205443', '10.10.202.19588.236.247.65UDP2689163324', '10.10.204.222196.251.8.140UDP51959443', '10.10.202.19595.136.120.16UDP2689113737', '10.10.202.195173.194.128.135UDP54234443', '10.10.202.19541.170.33.130UDP2689128914', '10.10.202.19541.157.33.76UDP2689118193', '10.10.202.195197.155.107.175UDP2689133689', '10.10.202.195122.53.107.3UDP2689138415', '10.10.202.19563.143.98.98UDP2689117107', '10.10.202.195103.81.77.12UDP2689114518', '10.10.202.19594.2.21.155UDP2689122479', '10.10.202.195201.189.36.234UDP2689164515', '10.10.185.54196.251.8.140UDP35725443', '10.10.202.19549.145.12.159UDP2689163891', '10.10.202.195175.41.44.35UDP2689115054', '10.10.202.19539.42.79.81UDP3457430122', '10.10.202.195185.245.189.119UDP2689151365', '10.10.204.222196.251.8.140UDP55214443', '10.10.202.195156.204.180.122UDP2689115986', '10.10.202.195101.173.77.150UDP2689129981', '10.10.205.243196.251.8.141UDP52365443', '10.10.202.19599.244.212.138UDP2689157011', '10.10.202.19524.89.223.20UDP2689142013', '10.10.202.195196.251.8.140UDP54177443', '10.10.202.19592.20.100.170UDP2689133834', '10.10.202.195169.0.76.187UDP2689152075', '10.10.202.19549.149.133.135UDP2689122256', '10.10.202.19524.135.115.140UDP2689120600', '10.10.202.19541.84.247.136UDP2689155640', '10.10.202.195216.10.216.177UDP2689113197', '10.10.202.1955.55.132.55UDP2689149622', '10.10.202.195141.126.125.116UDP2689122723', '10.10.202.195102.141.161.204UDP2689121185', '10.10.202.19592.24.153.100UDP2689112024', '10.10.202.19560.50.176.121UDP268916881', '10.10.202.19592.22.89.98UDP3457424874', '10.10.205.243196.251.8.140UDP59481443', '10.10.202.195122.3.131.165UDP2689137920', '10.10.202.195165.0.78.128UDP2689146896', '10.10.202.195196.251.8.140UDP52422443', '10.10.205.243196.251.8.140UDP63559443', '10.10.202.19589.164.194.13UDP2689139408', '10.10.166.216185.60.219.54TCP356585222', '10.10.202.195172.217.170.54UDP58578443', '10.10.204.222173.194.128.168UDP63963443', '10.10.202.19578.96.80.68UDP2689146967', '10.10.202.195122.3.131.165TCP6263337920', '10.10.202.195197.58.218.118UDP2689163658', '10.10.191.83102.132.112.128UDP47525443', '10.10.202.19566.215.239.219UDP2689144672', '10.10.202.19592.96.199.131UDP3457433525', '10.10.202.195181.61.209.19UDP2689111336', '10.10.202.195124.188.242.243UDP2689156146', '10.10.202.1951.212.139.237UDP268918999', '10.10.202.19577.54.247.0UDP2689115490', '10.10.202.19584.104.246.202UDP2689145884', '10.10.202.19588.90.249.184UDP2689134594', '10.10.202.19591.176.196.156UDP268916881', '10.10.202.195156.34.18.99UDP2689128381', '10.10.202.195140.0.210.67UDP2689110922', '10.10.201.148102.132.112.131UDP39812443', '10.10.202.19539.53.159.179UDP2689137370', '10.10.202.195152.173.103.108UDP2689145853', '10.10.202.195216.176.157.6UDP2689134617', '10.10.202.195220.240.203.220UDP2689159790', '10.10.202.19546.11.91.52UDP2689156465', '10.10.202.19549.146.10.51UDP2689113269', '10.10.202.195207.204.67.161UDP2689150299', '10.10.202.195115.133.253.159UDP2689142602', '10.10.202.195160.119.126.106UDP2689147449', '10.10.202.19584.104.112.22UDP2689134871', '10.10.202.19586.42.195.240UDP2689159377', '10.10.202.19549.207.139.194UDP2689133471', '10.10.205.243173.194.128.233UDP55829443', '10.10.202.195197.87.49.188UDP3457412453', '10.10.197.31196.251.8.141UDP56041443', '10.10.202.19591.140.91.14UDP2689116655', '10.10.204.222196.251.8.141UDP51395443', '10.10.202.195210.8.252.142UDP2689122049', '10.10.202.195212.102.50.79UDP268918999', '10.10.202.195118.208.73.167UDP2689149112', '10.10.202.19578.100.199.80UDP2689132495', '10.10.202.195102.182.145.245UDP2689134315', '10.10.202.19572.27.20.102UDP268916881', '10.10.202.195170.82.138.245UDP2689131512', '10.10.202.19549.145.194.17UDP2689141704', '10.10.202.19586.17.89.94UDP2689115220', '10.10.202.19551.9.174.163UDP3457413978', '10.10.202.195197.89.59.236UDP2689147309', '10.10.202.195109.177.149.52UDP2689159489', '10.10.202.195176.63.30.221UDP2689113299', '10.10.202.195173.194.128.169UDP64788443', '10.10.204.222196.251.8.77UDP49940443', '10.10.202.195156.196.131.217TCP6103523414', '10.10.202.195186.204.10.104UDP2689118359', '10.10.202.19546.152.213.190UDP2689119356', '10.10.202.19546.103.17.189UDP2689132697', '10.10.202.19565.96.35.197UDP2689124406', '10.10.202.19566.108.159.102UDP2689141015', '10.10.202.19527.252.2.229UDP2689162550', '10.10.202.195165.73.16.182UDP2689154622', '10.10.202.195155.93.198.37UDP2689163224', '10.10.202.19546.153.135.66UDP2689159167', '10.10.204.222196.251.8.141UDP57905443', '10.10.204.222196.251.8.76UDP60751443', '10.10.202.1952.91.5.130UDP2689159914', '10.10.205.243173.194.128.233UDP52104443', '10.10.202.195186.137.175.78UDP2689114957', '10.10.202.195196.251.8.141UDP52551443', '10.10.202.19524.135.250.203UDP2689129339', '10.10.202.195180.190.168.162UDP2689151923', '10.10.202.19594.67.78.236UDP2689129776', '10.10.202.19595.147.164.243UDP2689163964', '10.10.204.222173.194.128.203UDP54252443', '10.10.202.1955.13.9.26UDP2689117017', '10.10.204.222173.194.128.170UDP50777443', '10.10.202.195187.123.1.92UDP2689130054', '10.10.202.195123.136.112.19UDP268912819', '10.10.202.19594.96.97.107UDP2689147918', '10.10.202.19531.167.13.188UDP2689129195', '10.10.205.243196.251.8.76UDP60062443', '10.10.171.20388.221.134.146TCP5230480', '10.10.202.195223.25.10.51UDP2689134399', '10.10.202.195188.37.26.228UDP2689110145', '10.10.202.195111.125.120.50UDP2689165535', '10.10.202.19577.110.128.70UDP268915796', '10.10.202.195220.127.152.240UDP2689113614', '10.10.202.195181.31.60.103UDP3457441353', '10.10.202.19590.199.210.93UDP268916881', '10.10.202.195175.39.136.153UDP2689122728', '10.10.202.19590.193.70.20UDP2689134726', '10.10.202.19577.103.51.109UDP2689148635', '10.10.202.191196.251.8.77UDP42856443', '10.10.202.19582.0.41.68UDP268916881', '10.10.202.19579.116.219.226UDP2689162826', '10.10.202.195112.198.163.217UDP2689145484', '10.10.191.83102.132.112.128UDP51523443', '10.10.202.19549.151.30.65UDP2689142067', '10.10.191.83185.60.219.16UDP32882443', '10.10.202.195173.194.128.166UDP51154443', '10.10.202.195181.166.226.183UDP2689164778', '10.10.202.1951.41.183.10UDP2689153911', '10.10.202.195188.79.73.132UDP2689134788', '10.10.202.19568.149.169.50UDP2689146330', '10.10.202.19549.145.74.64UDP2689153826', '10.10.202.195179.83.227.61UDP2689162633', '10.10.204.222196.251.8.76UDP63893443', '10.10.202.195120.152.64.94UDP2689140850', '10.10.205.243173.194.128.138UDP56630443', '10.10.202.195181.188.124.109UDP2689110097', '10.10.202.195176.88.31.178UDP2689114405', '10.10.202.195169.255.83.62UDP2689111863', '10.10.171.203151.101.62.133TCP58729443', '10.10.202.195169.1.35.246UDP2689126884', '10.10.202.19560.52.7.59UDP2689163666', '10.10.169.240196.251.8.141UDP40917443', '10.10.202.19589.153.100.197UDP2689116881', '10.10.202.195173.194.128.135UDP59881443', '10.10.202.19541.210.7.170UDP268916881', '10.10.205.243173.194.128.137UDP63250443', '10.10.204.222172.217.170.78TCP52694443', '10.10.202.195109.159.11.110UDP2689137696', '10.10.202.19549.145.72.240UDP2689127241', '10.10.202.19546.166.191.2UDP2689147008', '10.10.202.195197.219.105.109UDP2689141550', '10.10.202.195151.42.22.129UDP2689155567', '10.10.202.19524.98.113.192UDP2689116616', '10.10.202.195188.232.28.143UDP345749102', '10.10.202.19582.253.23.126UDP2689122192', '10.10.202.195218.208.158.101UDP2689114661', '10.10.202.1955.193.98.208UDP2689123278', '10.10.202.195102.65.78.172UDP2689134172', '10.10.202.19584.31.20.197UDP2689110607', '10.10.204.222196.251.8.140UDP58276443', '10.10.202.195105.184.179.33UDP2689136784', '10.10.202.19577.175.160.105UDP3457456195', '10.10.202.19586.143.130.114UDP2689123531', '10.10.202.19586.97.171.244UDP2689151394', '10.10.204.222196.251.8.140UDP51911443', '10.10.202.19586.6.236.136UDP2689117917', '10.10.202.19592.114.38.64UDP2689129149', '10.10.202.195186.106.169.190UDP2689151413', '10.10.202.19582.66.116.23UDP2689126085', '10.10.202.19541.202.232.4UDP2689123975', '10.10.202.19550.66.176.8UDP3457414117', '10.10.204.222196.251.8.141UDP63868443', '10.10.202.1952.95.13.172UDP2689126085', '10.10.202.19541.139.220.20UDP2689126023', '10.10.202.195197.237.224.188UDP268916881', '10.10.202.1955.194.8.146UDP2689158847', '10.10.202.195101.98.29.212UDP2689120988', '10.10.202.195197.94.32.135UDP2689157758', '10.10.202.195110.54.187.70UDP2689141748', '10.10.202.195112.141.100.239UDP2689157890', '10.10.205.243173.194.128.134UDP57222443', '10.10.205.149102.132.112.128TCP50447443', '10.10.205.243173.194.128.233UDP52290443', '10.10.202.195165.255.176.66UDP2689124260', '10.10.191.83102.132.112.131UDP53141443', '10.10.202.195107.220.161.178UDP2689159593', '10.10.202.195180.10.22.187UDP2689157990', '10.10.202.195213.150.205.22UDP2689158668', '10.10.202.195176.21.113.231UDP2689134839', '10.10.202.19561.8.125.249UDP2689135524', '10.10.202.195105.242.143.127UDP268916881', '10.10.202.19586.5.169.102UDP3457440088', '10.10.201.148102.132.112.131UDP44680443', '10.10.202.19596.52.35.37UDP2689158685', '10.10.202.195188.19.155.173UDP2689123677', '10.10.202.19586.173.93.84UDP2689131448', '10.10.202.195174.119.39.111UDP2689162355', '10.10.202.19579.129.245.21UDP2689133839', '10.10.191.83185.60.219.54TCP411685222', '10.10.205.243173.194.128.233UDP53064443', '10.10.201.148102.132.112.131UDP46858443', '10.10.202.195173.194.128.135UDP61296443', '10.10.202.1952.84.182.96UDP2689142028', '10.10.197.31173.194.128.168UDP55832443', '10.10.202.195169.255.171.124UDP2689122757', '10.10.202.19585.246.186.83UDP2689125885', '10.10.202.19578.17.127.150UDP2689131625', '10.10.202.19592.96.190.29UDP2689145682', '10.10.202.1951.156.145.28UDP2689151413', '10.10.202.195217.164.215.229UDP2689141144', '10.10.202.195109.79.232.14UDP2689124874', '10.10.202.19549.144.78.170UDP2689114244', '10.10.202.195101.174.70.89UDP2689164049', '10.10.202.195176.166.161.133UDP2689140017', '10.10.202.19586.173.45.34UDP2689121182', '10.10.205.243173.194.128.233UDP50899443', '10.10.202.19592.9.217.15UDP2689158146', '10.10.202.19581.111.26.20UDP2689151413', '10.10.202.195210.185.78.103UDP2689116217', '10.10.202.195173.194.128.135UDP52728443', '10.10.202.195216.58.223.150UDP55757443', '10.10.202.195103.249.250.222UDP2689128341', '10.10.202.195117.196.251.15UDP268918198', '10.10.204.222196.251.8.77UDP49935443', '10.10.202.1952.30.128.202UDP2689116047', '10.10.204.222172.217.170.78TCP64049443', '10.10.202.19550.38.138.141UDP2689122533', '10.10.202.19561.5.192.188UDP2689148065', '10.10.202.19582.43.236.68UDP2689156723', '10.10.202.195119.2.126.66UDP2689114461', '10.10.205.243196.251.8.76UDP53149443', '10.10.202.195108.18.120.150UDP3457455420', '10.10.202.195173.194.128.169UDP55869443', '10.10.202.195165.90.116.142UDP2689145409', '10.10.202.19577.243.177.38UDP2689136614', '10.10.191.83102.132.112.131UDP41261443', '10.10.202.191196.251.8.140UDP46669443', '10.10.202.195173.225.215.26UDP2689110362', '10.10.203.31102.132.112.131UDP56125443', '10.10.202.195216.10.217.116UDP2689128667', '10.10.202.19586.176.71.107UDP2689161375', '10.10.205.243196.251.8.140UDP53734443', '10.10.202.1952.26.148.2UDP2689146583', '10.10.203.31185.60.219.54TCP50720443', '10.10.202.19549.207.138.57UDP2689119287', '10.10.202.195161.0.155.230UDP2689161584', '10.10.202.195189.123.18.223UDP2689138621', '10.10.202.19582.102.25.52UDP2689146804', '10.10.202.19539.52.28.190UDP2689149587', '10.10.202.19582.15.252.240UDP2689121385', '10.10.202.19546.185.237.171UDP2689145679', '10.10.202.195114.75.121.54UDP2689114695', '10.10.201.148102.132.112.131UDP41447443', '10.10.202.195161.29.56.206UDP2689140799', '10.10.202.195196.50.199.187UDP2689116518', '10.10.202.195102.165.232.101UDP3457459567', '10.10.202.195105.227.181.15UDP2689117671', '10.10.203.31102.132.112.131UDP57519443', '10.10.191.83196.251.8.141UDP33827443', '10.10.202.195184.22.156.203UDP3457429950', '10.10.202.19586.147.36.235UDP2689115526', '10.10.202.19579.175.204.54UDP2689129024', '10.10.202.195197.210.65.100UDP2689143143', '10.10.202.195173.194.128.232UDP62091443', '10.10.202.19594.253.225.171UDP268916881', '10.10.202.195188.2.222.206UDP3457428786', '10.10.197.31172.217.170.46UDP59189443', '10.10.202.19582.22.119.223UDP2689143005', '10.10.202.19586.17.242.252UDP268916881', '10.10.202.195121.217.0.208UDP2689142074', '10.10.202.19589.64.94.65UDP2689117771', '10.10.202.19592.96.157.37UDP2689161902', '10.10.202.195223.182.245.141UDP2689161992', '10.10.202.195102.182.146.197UDP2689164655', '10.10.202.19571.201.95.167UDP2689147448', '10.10.204.222172.217.170.86UDP61406443', '10.10.202.19566.36.135.241UDP2689128365', '10.10.202.195101.185.88.41UDP2689138117', '10.10.202.195197.237.52.171UDP2689114812', '10.10.202.195118.211.6.134UDP2689151413', '10.10.204.222196.251.8.141UDP50245443', '10.10.202.19551.223.95.27UDP2689142329', '10.10.202.195122.55.232.2UDP2689124968', '10.10.202.195160.226.246.205UDP2689121982', '10.10.204.222172.217.170.86UDP59011443', '10.10.202.19586.4.243.126UDP2689163016', '10.10.197.31173.194.128.216UDP56512443', '10.10.202.191196.251.8.140UDP39421443', '10.10.202.19541.210.29.56UDP268916881', '10.10.205.243196.251.8.141UDP60896443', '10.10.202.19541.218.192.84UDP2689144822', '10.10.202.19584.229.12.67UDP2689119871', '10.10.202.19579.101.200.38UDP2689140390', '10.10.171.203197.80.130.35TCP49223443', '10.10.202.19595.96.168.138UDP2689158490', '10.10.202.195109.156.85.165UDP2689154891', '10.10.202.19562.64.174.6UDP2689138911', '10.10.202.195176.205.105.106UDP3457454342', '10.10.202.19531.201.58.148UDP2689158653', '10.10.202.195181.44.56.187UDP2689132700', '10.10.202.19586.2.189.189UDP2689146424', '10.10.202.19572.95.38.182UDP2689123456', '10.10.202.195154.72.150.6UDP2689120712'}\n"
     ]
    }
   ],
   "source": [
    "print(set(df_predictions['key']))"
   ],
   "metadata": {
    "collapsed": false,
    "pycharm": {
     "name": "#%%\n"
    }
   }
  },
  {
   "cell_type": "markdown",
   "source": [
    "# Network Results"
   ],
   "metadata": {
    "collapsed": false,
    "pycharm": {
     "name": "#%% md\n"
    }
   }
  },
  {
   "cell_type": "code",
   "execution_count": 409,
   "outputs": [
    {
     "ename": "FileNotFoundError",
     "evalue": "[Errno 2] No such file or directory: './144_3_Predictions/hosts/00:00:00:00:11:11.csv'",
     "output_type": "error",
     "traceback": [
      "\u001B[0;31m---------------------------------------------------------------------------\u001B[0m",
      "\u001B[0;31mFileNotFoundError\u001B[0m                         Traceback (most recent call last)",
      "Cell \u001B[0;32mIn [409], line 10\u001B[0m\n\u001B[1;32m      1\u001B[0m \u001B[38;5;28;01mimport\u001B[39;00m \u001B[38;5;21;01mcsv\u001B[39;00m\n\u001B[1;32m      2\u001B[0m mbps \u001B[38;5;241m=\u001B[39m {\u001B[38;5;124m'\u001B[39m\u001B[38;5;124mWhatsAppFiles\u001B[39m\u001B[38;5;124m'\u001B[39m: \u001B[38;5;241m0\u001B[39m,\n\u001B[1;32m      3\u001B[0m         \u001B[38;5;124m'\u001B[39m\u001B[38;5;124mInstagram\u001B[39m\u001B[38;5;124m'\u001B[39m: \u001B[38;5;241m0\u001B[39m,\n\u001B[1;32m      4\u001B[0m         \u001B[38;5;124m'\u001B[39m\u001B[38;5;124mWhatsApp\u001B[39m\u001B[38;5;124m'\u001B[39m: \u001B[38;5;241m0\u001B[39m,\n\u001B[0;32m   (...)\u001B[0m\n\u001B[1;32m      8\u001B[0m         \u001B[38;5;124m'\u001B[39m\u001B[38;5;124mYouTube\u001B[39m\u001B[38;5;124m'\u001B[39m: \u001B[38;5;241m0\u001B[39m,\n\u001B[1;32m      9\u001B[0m         \u001B[38;5;124m'\u001B[39m\u001B[38;5;124mFacebook\u001B[39m\u001B[38;5;124m'\u001B[39m: \u001B[38;5;241m0\u001B[39m}\n\u001B[0;32m---> 10\u001B[0m \u001B[38;5;28;01mwith\u001B[39;00m \u001B[38;5;28mopen\u001B[39m(\u001B[38;5;124m'\u001B[39m\u001B[38;5;124m./144_3_Predictions/hosts/00:00:00:00:11:11.csv\u001B[39m\u001B[38;5;124m'\u001B[39m, mode\u001B[38;5;241m=\u001B[39m\u001B[38;5;124m'\u001B[39m\u001B[38;5;124mr\u001B[39m\u001B[38;5;124m'\u001B[39m) \u001B[38;5;28;01mas\u001B[39;00m infile:\n\u001B[1;32m     11\u001B[0m     reader \u001B[38;5;241m=\u001B[39m csv\u001B[38;5;241m.\u001B[39mreader(infile)\n\u001B[1;32m     12\u001B[0m     \u001B[38;5;28;01mfor\u001B[39;00m row \u001B[38;5;129;01min\u001B[39;00m reader:\n",
      "\u001B[0;31mFileNotFoundError\u001B[0m: [Errno 2] No such file or directory: './144_3_Predictions/hosts/00:00:00:00:11:11.csv'"
     ]
    }
   ],
   "source": [
    "import csv\n",
    "mbps = {'WhatsAppFiles': 0,\n",
    "        'Instagram': 0,\n",
    "        'WhatsApp': 0,\n",
    "        'Messenger': 0,\n",
    "        'BitTorrent': 0,\n",
    "        'TikTok': 0,\n",
    "        'YouTube': 0,\n",
    "        'Facebook': 0}\n",
    "with open('./144_3_Predictions/hosts/00:00:00:00:11:11.csv', mode='r') as infile:\n",
    "    reader = csv.reader(infile)\n",
    "    for row in reader:\n",
    "        mbps[row[0]] += float(row[3])\n",
    "with open('./144_3_Predictions/hosts/00:00:00:00:11:12.csv', mode='r') as infile:\n",
    "    reader = csv.reader(infile)\n",
    "    for row in reader:\n",
    "        mbps[row[0]] += float(row[3])\n",
    "with open('./144_3_Predictions/hosts/00:00:00:00:11:13.csv', mode='r') as infile:\n",
    "    reader = csv.reader(infile)\n",
    "    for row in reader:\n",
    "        mbps[row[0]] += float(row[3])\n",
    "with open('./144_3_Predictions/hosts/00:00:00:00:11:14.csv', mode='r') as infile:\n",
    "    reader = csv.reader(infile)\n",
    "    for row in reader:\n",
    "        mbps[row[0]] += float(row[3])"
   ],
   "metadata": {
    "collapsed": false,
    "pycharm": {
     "name": "#%%\n"
    }
   }
  },
  {
   "cell_type": "code",
   "execution_count": null,
   "outputs": [],
   "source": [
    "for key in mbps.keys():\n",
    "    mbps[key] = round(mbps[key]/4, 2)\n",
    "mbps"
   ],
   "metadata": {
    "collapsed": false,
    "pycharm": {
     "name": "#%%\n"
    }
   }
  },
  {
   "cell_type": "code",
   "execution_count": null,
   "outputs": [],
   "source": [
    "import csv\n",
    "mbps_base = {'WhatsAppFiles': 0,\n",
    "        'Instagram': 0,\n",
    "        'WhatsApp': 0,\n",
    "        'Messenger': 0,\n",
    "        'BitTorrent': 0,\n",
    "        'TikTok': 0,\n",
    "        'YouTube': 0,\n",
    "        'Facebook': 0}\n",
    "with open('./base/hosts/00:00:00:00:11:11.csv', mode='r') as infile:\n",
    "    reader = csv.reader(infile)\n",
    "    for row in reader:\n",
    "        mbps_base[row[0]] += float(row[3])\n",
    "with open('./base/hosts/00:00:00:00:11:12.csv', mode='r') as infile:\n",
    "    reader = csv.reader(infile)\n",
    "    for row in reader:\n",
    "        mbps_base[row[0]] += float(row[3])\n",
    "with open('./base/hosts/00:00:00:00:11:13.csv', mode='r') as infile:\n",
    "    reader = csv.reader(infile)\n",
    "    for row in reader:\n",
    "        mbps_base[row[0]] += float(row[3])\n",
    "with open('./base/hosts/00:00:00:00:11:14.csv', mode='r') as infile:\n",
    "    reader = csv.reader(infile)\n",
    "    for row in reader:\n",
    "        mbps_base[row[0]] += float(row[3])"
   ],
   "metadata": {
    "collapsed": false,
    "pycharm": {
     "name": "#%%\n"
    }
   }
  },
  {
   "cell_type": "code",
   "execution_count": null,
   "outputs": [],
   "source": [
    "for key in mbps_base.keys():\n",
    "    mbps_base[key] = round(mbps_base[key]/4, 2)\n",
    "mbps_base"
   ],
   "metadata": {
    "collapsed": false,
    "pycharm": {
     "name": "#%%\n"
    }
   }
  },
  {
   "cell_type": "code",
   "execution_count": null,
   "outputs": [],
   "source": [
    "mbps_class = {'WhatsAppFiles': 0,\n",
    "             'Instagram': 0,\n",
    "             'WhatsApp': 0,\n",
    "             'Messenger': 0,\n",
    "             'BitTorrent': 0,\n",
    "             'TikTok': 0,\n",
    "             'YouTube': 0,\n",
    "             'Facebook': 0}\n",
    "with open('./classifier_only/hosts/00:00:00:00:11:11.csv', mode='r') as infile:\n",
    "    reader = csv.reader(infile)\n",
    "    for row in reader:\n",
    "        mbps_class[row[0]] += float(row[3])\n",
    "with open('./classifier_only/hosts/00:00:00:00:11:12.csv', mode='r') as infile:\n",
    "    reader = csv.reader(infile)\n",
    "    for row in reader:\n",
    "        mbps_class[row[0]] += float(row[3])\n",
    "with open('./classifier_only/hosts/00:00:00:00:11:13.csv', mode='r') as infile:\n",
    "    reader = csv.reader(infile)\n",
    "    for row in reader:\n",
    "        mbps_class[row[0]] += float(row[3])\n",
    "with open('./classifier_only/hosts/00:00:00:00:11:14.csv', mode='r') as infile:\n",
    "    reader = csv.reader(infile)\n",
    "    for row in reader:\n",
    "        mbps_class[row[0]] += float(row[3])"
   ],
   "metadata": {
    "collapsed": false,
    "pycharm": {
     "name": "#%%\n"
    }
   }
  },
  {
   "cell_type": "code",
   "execution_count": null,
   "outputs": [],
   "source": [
    "for key in mbps_class.keys():\n",
    "    mbps_class[key] = round(mbps_class[key]/4, 2)\n",
    "mbps_class"
   ],
   "metadata": {
    "collapsed": false,
    "pycharm": {
     "name": "#%%\n"
    }
   }
  },
  {
   "cell_type": "code",
   "execution_count": null,
   "outputs": [],
   "source": [
    "print(mbps)\n",
    "print(mbps_class)\n",
    "print(mbps_class)"
   ],
   "metadata": {
    "collapsed": false,
    "pycharm": {
     "name": "#%%\n"
    }
   }
  },
  {
   "cell_type": "code",
   "execution_count": null,
   "outputs": [],
   "source": [],
   "metadata": {
    "collapsed": false,
    "pycharm": {
     "name": "#%%\n"
    }
   }
  }
 ],
 "metadata": {
  "interpreter": {
   "hash": "e7370f93d1d0cde622a1f8e1c04877d8463912d04d973331ad4851f04de6915a"
  },
  "kernelspec": {
   "display_name": "Python 3.8.10 64-bit",
   "language": "python",
   "name": "python3"
  },
  "language_info": {
   "codemirror_mode": {
    "name": "ipython",
    "version": 3
   },
   "file_extension": ".py",
   "mimetype": "text/x-python",
   "name": "python",
   "nbconvert_exporter": "python",
   "pygments_lexer": "ipython3",
   "version": "3.8.10"
  }
 },
 "nbformat": 4,
 "nbformat_minor": 0
}